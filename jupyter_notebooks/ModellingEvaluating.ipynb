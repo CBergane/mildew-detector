{
 "cells": [
  {
   "cell_type": "markdown",
   "metadata": {},
   "source": [
    "# **Modelling and Evaluating**"
   ]
  },
  {
   "cell_type": "markdown",
   "metadata": {},
   "source": [
    "## Objectives\n",
    "\n",
    "- Answer business requirement 2:\n",
    "    - The client is interested to tell wheterh a given leaf is covered with powdery mildew\n",
    "\n",
    "## Inputs\n",
    "\n",
    "- Image shape are located in a pickle file.\n",
    "- Images from the test, train, validation folders and their subfolders.\n",
    "\n",
    "## Outputs\n",
    "\n",
    "- Image and label distribution plot:\n",
    "    - Bar chart showing the number of images per label in the train, validation, and test sets.\n",
    "    - Pie chart showing the percentage of images in each set.\n",
    "- Image augmentation:\n",
    "    -Plot showing a sample of augmented images for each set.\n",
    "- Class indices:\n",
    "    -A dictionary of class indices is to be used for prediction inference on the labels.\n",
    "- Model creation and summary:\n",
    "    - Creation of a machine learning model and display of its outline.\n",
    "- Model training:\n",
    "    - Train the model using the train set and validate on the validation set.\n",
    "- Save model:\n",
    "    - Save the trained model.\n",
    "- Learning curve plot:\n",
    "    - The plot of model performance on the train and validation set.\n",
    "- Model evaluation:\n",
    "    - Evaluate the model performance on the test set.\n",
    "    - Calculate accuracy and plot the ROC curve.\n",
    "    - Classification report:\n",
    "        - For Model A: overall accuracy and per-class precision, recall, and F1 score.\n",
    "        - For Model B: classification report with macro avg and weighted avg.\n",
    "        - For Model C: synthetic classification report per label.\n",
    "    - Plot confusion matrix.\n",
    "    - Save evaluation results as a pickle file.\n",
    "- Prediction on a random image file:\n",
    "    - Predict the label of a random image file using the trained model.\n"
   ]
  },
  {
   "cell_type": "markdown",
   "metadata": {},
   "source": [
    "---"
   ]
  },
  {
   "cell_type": "markdown",
   "metadata": {},
   "source": [
    "### Import packages"
   ]
  },
  {
   "cell_type": "code",
   "execution_count": 1,
   "metadata": {},
   "outputs": [],
   "source": [
    "import os\n",
    "import pandas as pd\n",
    "import numpy as np\n",
    "import matplotlib.pyplot as plt \n",
    "import seaborn as sns \n",
    "import tensorflow as tf\n",
    "from matplotlib.image import imread"
   ]
  },
  {
   "cell_type": "markdown",
   "metadata": {},
   "source": [
    "---"
   ]
  },
  {
   "cell_type": "markdown",
   "metadata": {},
   "source": [
    "### Set working directory"
   ]
  },
  {
   "cell_type": "code",
   "execution_count": 2,
   "metadata": {},
   "outputs": [],
   "source": [
    "cwd = os.getcwd()"
   ]
  },
  {
   "cell_type": "code",
   "execution_count": 3,
   "metadata": {},
   "outputs": [
    {
     "name": "stdout",
     "output_type": "stream",
     "text": [
      "You set a new current directory\n"
     ]
    }
   ],
   "source": [
    "os.chdir('/workspace/mildew-detector')\n",
    "print(\"You set a new current directory\")"
   ]
  },
  {
   "cell_type": "code",
   "execution_count": 4,
   "metadata": {},
   "outputs": [
    {
     "data": {
      "text/plain": [
       "'/workspace/mildew-detector'"
      ]
     },
     "execution_count": 4,
     "metadata": {},
     "output_type": "execute_result"
    }
   ],
   "source": [
    "work_dir = os.getcwd()\n",
    "work_dir"
   ]
  },
  {
   "cell_type": "markdown",
   "metadata": {},
   "source": [
    "---"
   ]
  },
  {
   "cell_type": "markdown",
   "metadata": {},
   "source": []
  }
 ],
 "metadata": {
  "kernelspec": {
   "display_name": "Python 3.8.12 64-bit ('3.8.12')",
   "language": "python",
   "name": "python3"
  },
  "language_info": {
   "codemirror_mode": {
    "name": "ipython",
    "version": 3
   },
   "file_extension": ".py",
   "mimetype": "text/x-python",
   "name": "python",
   "nbconvert_exporter": "python",
   "pygments_lexer": "ipython3",
   "version": "3.8.12"
  },
  "orig_nbformat": 4,
  "vscode": {
   "interpreter": {
    "hash": "8b8334dab9339717f727a1deaf837b322d7a41c20d15cc86be99a8e69ceec8ce"
   }
  }
 },
 "nbformat": 4,
 "nbformat_minor": 2
}
